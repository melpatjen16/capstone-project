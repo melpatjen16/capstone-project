{
  "nbformat": 4,
  "nbformat_minor": 0,
  "metadata": {
    "colab": {
      "provenance": []
    },
    "kernelspec": {
      "name": "python3",
      "display_name": "Python 3"
    },
    "language_info": {
      "name": "python"
    }
  },
  "cells": [
    {
      "cell_type": "code",
      "execution_count": 9,
      "metadata": {
        "colab": {
          "base_uri": "https://localhost:8080/"
        },
        "id": "Wc9fIMV4fz-q",
        "outputId": "3d75933e-a459-41c5-aa57-20adafdeb4e8"
      },
      "outputs": [
        {
          "output_type": "stream",
          "name": "stdout",
          "text": [
            "\r0% [Working]\r            \rGet:1 http://security.ubuntu.com/ubuntu bionic-security InRelease [88.7 kB]\n",
            "\r0% [Waiting for headers] [1 InRelease 14.2 kB/88.7 kB 16%] [Connected to cloud.\r                                                                               \rHit:2 http://archive.ubuntu.com/ubuntu bionic InRelease\n",
            "\r0% [Waiting for headers] [1 InRelease 88.7 kB/88.7 kB 100%] [Connected to cloud\r                                                                               \rGet:3 http://archive.ubuntu.com/ubuntu bionic-updates InRelease [88.7 kB]\n",
            "\r                                                                               \rHit:4 https://cloud.r-project.org/bin/linux/ubuntu bionic-cran40/ InRelease\n",
            "\r0% [3 InRelease 62.0 kB/88.7 kB 70%] [Waiting for headers] [Connecting to ppa.l\r0% [2 InRelease gpgv 242 kB] [3 InRelease 62.0 kB/88.7 kB 70%] [Waiting for hea\r0% [2 InRelease gpgv 242 kB] [Waiting for headers] [Waiting for headers] [Conne\r                                                                               \rGet:5 http://archive.ubuntu.com/ubuntu bionic-backports InRelease [83.3 kB]\n",
            "Hit:6 http://ppa.launchpad.net/c2d4u.team/c2d4u4.0+/ubuntu bionic InRelease\n",
            "Ign:7 https://developer.download.nvidia.com/compute/machine-learning/repos/ubuntu1804/x86_64  InRelease\n",
            "Hit:8 https://developer.download.nvidia.com/compute/cuda/repos/ubuntu1804/x86_64  InRelease\n",
            "Hit:9 https://developer.download.nvidia.com/compute/machine-learning/repos/ubuntu1804/x86_64  Release\n",
            "Hit:10 http://ppa.launchpad.net/cran/libgit2/ubuntu bionic InRelease\n",
            "Hit:11 http://ppa.launchpad.net/deadsnakes/ppa/ubuntu bionic InRelease\n",
            "Hit:12 http://ppa.launchpad.net/graphics-drivers/ppa/ubuntu bionic InRelease\n",
            "Get:13 http://archive.ubuntu.com/ubuntu bionic-updates/main amd64 Packages [3,519 kB]\n",
            "Fetched 3,780 kB in 3s (1,480 kB/s)\n",
            "Reading package lists... Done\n"
          ]
        }
      ],
      "source": [
        "import os\n",
        "# Find the latest version of spark 3.0  from http://www.apache.org/dist/spark/ and enter as the spark version\n",
        "# For example:\n",
        "# spark_version = 'spark-3.0.3'\n",
        "spark_version = 'spark-3.3.1'\n",
        "os.environ['SPARK_VERSION']=spark_version\n",
        "\n",
        "# Install Spark and Java\n",
        "!apt-get update\n",
        "!apt-get install openjdk-11-jdk-headless -qq > /dev/null\n",
        "!wget -q http://www.apache.org/dist/spark/$SPARK_VERSION/$SPARK_VERSION-bin-hadoop3.tgz\n",
        "!tar xf $SPARK_VERSION-bin-hadoop3.tgz\n",
        "!pip install -q findspark\n",
        "\n",
        "# Set Environment Variables\n",
        "import os\n",
        "os.environ[\"JAVA_HOME\"] = \"/usr/lib/jvm/java-11-openjdk-amd64\"\n",
        "os.environ[\"SPARK_HOME\"] = f\"/content/{spark_version}-bin-hadoop3\"\n",
        "\n",
        "# Start a SparkSession\n",
        "import findspark\n",
        "findspark.init()"
      ]
    },
    {
      "cell_type": "code",
      "source": [
        "!wget https://jdbc.postgresql.org/download/postgresql-42.2.16.jar\n"
      ],
      "metadata": {
        "colab": {
          "base_uri": "https://localhost:8080/"
        },
        "id": "d7ssb3ZRf9dv",
        "outputId": "8e3a86fe-89f5-4619-f581-8574ad0d3ead"
      },
      "execution_count": 10,
      "outputs": [
        {
          "output_type": "stream",
          "name": "stdout",
          "text": [
            "--2022-12-06 00:30:37--  https://jdbc.postgresql.org/download/postgresql-42.2.16.jar\n",
            "Resolving jdbc.postgresql.org (jdbc.postgresql.org)... 72.32.157.228, 2001:4800:3e1:1::228\n",
            "Connecting to jdbc.postgresql.org (jdbc.postgresql.org)|72.32.157.228|:443... connected.\n",
            "HTTP request sent, awaiting response... 200 OK\n",
            "Length: 1002883 (979K) [application/java-archive]\n",
            "Saving to: ‘postgresql-42.2.16.jar.1’\n",
            "\n",
            "postgresql-42.2.16. 100%[===================>] 979.38K  5.52MB/s    in 0.2s    \n",
            "\n",
            "2022-12-06 00:30:37 (5.52 MB/s) - ‘postgresql-42.2.16.jar.1’ saved [1002883/1002883]\n",
            "\n"
          ]
        }
      ]
    },
    {
      "cell_type": "code",
      "source": [
        "from pyspark.sql import SparkSession\n",
        "spark = SparkSession.builder.appName(\"CrimeDB\").config(\"spark.driver.extraClassPath\",\"/content/postgresql-42.2.16.jar\").getOrCreate()"
      ],
      "metadata": {
        "id": "6pT7UcexdFnK"
      },
      "execution_count": 15,
      "outputs": []
    },
    {
      "cell_type": "markdown",
      "source": [
        "# Read in 3 Crime Datasets"
      ],
      "metadata": {
        "id": "k7kDaSWWnreI"
      }
    },
    {
      "cell_type": "code",
      "source": [
        "# Read in data from S3 Buckets\n",
        "from pyspark import SparkFiles\n",
        "bo_url = \"https://capstone-crime-bucket.s3.amazonaws.com/crime.csv\"\n",
        "spark.sparkContext.addFile(bo_url)\n",
        "bo_df = spark.read.option(\"encoding\", \"UTF-8\").csv(SparkFiles.get(\"crime.csv\"), sep=\",\", header=True, inferSchema=True)\n",
        "bo_df.show\n",
        "\n"
      ],
      "metadata": {
        "colab": {
          "base_uri": "https://localhost:8080/"
        },
        "outputId": "fca811ee-6b98-4f4f-9f5f-6ffa6794be0c",
        "id": "VooDLfiC9CMW"
      },
      "execution_count": 16,
      "outputs": [
        {
          "output_type": "execute_result",
          "data": {
            "text/plain": [
              "<bound method DataFrame.show of DataFrame[INCIDENT_NUMBER: string, OFFENSE_CODE: int, OFFENSE_CODE_GROUP: string, OFFENSE_DESCRIPTION: string, DISTRICT: string, REPORTING_AREA: string, SHOOTING: string, OCCURRED_ON_DATE: timestamp, YEAR: int, MONTH: int, DAY_OF_WEEK: string, HOUR: int, UCR_PART: string, STREET: string, Lat: double, Long: double, Location: string]>"
            ]
          },
          "metadata": {},
          "execution_count": 16
        }
      ]
    },
    {
      "cell_type": "code",
      "source": [
        "# Read in data from S3 Buckets\n",
        "from pyspark import SparkFiles\n",
        "\n",
        "la_url = \"https://capstone-crime-bucket.s3.amazonaws.com/Crimes_2012-2016.csv\"\n",
        "spark.sparkContext.addFile(la_url)\n",
        "la_df = spark.read.option(\"encoding\", \"UTF-8\").csv(SparkFiles.get(\"Crimes_2012-2016.csv\"), sep=\",\", header=True, inferSchema=True)\n",
        "la_df.show"
      ],
      "metadata": {
        "colab": {
          "base_uri": "https://localhost:8080/"
        },
        "id": "ElrsTLN-m7VG",
        "outputId": "6348b2b3-a116-406c-9c49-37612d325052"
      },
      "execution_count": 17,
      "outputs": [
        {
          "output_type": "execute_result",
          "data": {
            "text/plain": [
              "<bound method DataFrame.show of DataFrame[_c0: int, DR.NO: int, DATE.OCC: string, TIME.OCC: int, AREA: int, AREA.NAME: string, RD: int, Crm.Cd: int, CrmCd.Desc: string, Location.1: string, lat: double, long: double, Year: int]>"
            ]
          },
          "metadata": {},
          "execution_count": 17
        }
      ]
    },
    {
      "cell_type": "code",
      "source": [
        "# Read in data from S3 Buckets\n",
        "from pyspark import SparkFiles\n",
        "\n",
        "\n",
        "bal_url = \"https://capstone-crime-bucket.s3.amazonaws.com/Baltimore_Crime_Data.csv\"\n",
        "spark.sparkContext.addFile(bal_url)\n",
        "bal_df = spark.read.option(\"encoding\", \"UTF-8\").csv(SparkFiles.get(\"Baltimore_Crime_Data.csv\"), sep=\",\", header=True, inferSchema=True)\n",
        "bal_df.show\n",
        "\n"
      ],
      "metadata": {
        "colab": {
          "base_uri": "https://localhost:8080/"
        },
        "outputId": "bdc18667-faad-4d2c-e5f3-35047437a440",
        "id": "PDWXaqh_nFbb"
      },
      "execution_count": 18,
      "outputs": [
        {
          "output_type": "execute_result",
          "data": {
            "text/plain": [
              "<bound method DataFrame.show of DataFrame[CrimeDate: string, CrimeTime: string, CrimeCode: string, Location: string, Description: string, Inside/Outside: string, Weapon: string, Post: int, District: string, Neighborhood: string, Longitude: double, Latitude: double, Location 1: string, Premise: string, Total Incidents: int]>"
            ]
          },
          "metadata": {},
          "execution_count": 18
        }
      ]
    },
    {
      "cell_type": "code",
      "source": [],
      "metadata": {
        "id": "8yaiUUurnS5S"
      },
      "execution_count": null,
      "outputs": []
    },
    {
      "cell_type": "markdown",
      "source": [
        "# Boston DataFrames"
      ],
      "metadata": {
        "id": "5H5-kcojn3pn"
      }
    },
    {
      "cell_type": "code",
      "source": [
        "from pyspark.sql.functions import to_date\n",
        "# Read in the Review dataset as a DataFrame\n",
        "review_bo_df = bo_df.select([\"INCIDENT_NUMBER\", \"OFFENSE_CODE\",\"OFFENSE_CODE_GROUP\",\"OFFENSE_DESCRIPTION\",\"DISTRICT\", \"REPORTING_AREA\", \"OCCURRED_ON_DATE\", \"STREET\", \"Lat\", \"Long\", \"Location\"])\n",
        "review_bo_df.show()\n"
      ],
      "metadata": {
        "id": "11OvWABtoAuw",
        "colab": {
          "base_uri": "https://localhost:8080/"
        },
        "outputId": "ccb01190-36de-421d-f3d5-9f1ac534b963"
      },
      "execution_count": 19,
      "outputs": [
        {
          "output_type": "stream",
          "name": "stdout",
          "text": [
            "+---------------+------------+--------------------+--------------------+--------+--------------+-------------------+-----------------+-----------+------------+--------------------+\n",
            "|INCIDENT_NUMBER|OFFENSE_CODE|  OFFENSE_CODE_GROUP| OFFENSE_DESCRIPTION|DISTRICT|REPORTING_AREA|   OCCURRED_ON_DATE|           STREET|        Lat|        Long|            Location|\n",
            "+---------------+------------+--------------------+--------------------+--------+--------------+-------------------+-----------------+-----------+------------+--------------------+\n",
            "|     I182070945|         619|             Larceny|  LARCENY ALL OTHERS|     D14|           808|2018-09-02 13:00:00|       LINCOLN ST|42.35779134|-71.13937053|(42.35779134, -71...|\n",
            "|     I182070943|        1402|           Vandalism|           VANDALISM|     C11|           347|2018-08-21 00:00:00|         HECLA ST|42.30682138|-71.06030035|(42.30682138, -71...|\n",
            "|     I182070941|        3410|               Towed| TOWED MOTOR VEHICLE|      D4|           151|2018-09-03 19:27:00|      CAZENOVE ST|42.34658879|-71.07242943|(42.34658879, -71...|\n",
            "|     I182070940|        3114|Investigate Property|INVESTIGATE PROPERTY|      D4|           272|2018-09-03 21:16:00|       NEWCOMB ST|42.33418175|-71.07866441|(42.33418175, -71...|\n",
            "|     I182070938|        3114|Investigate Property|INVESTIGATE PROPERTY|      B3|           421|2018-09-03 21:05:00|         DELHI ST|42.27536542|-71.09036101|(42.27536542, -71...|\n",
            "|     I182070936|        3820|Motor Vehicle Acc...|M/V ACCIDENT INVO...|     C11|           398|2018-09-03 21:09:00|       TALBOT AVE|42.29019621|-71.07159012|(42.29019621, -71...|\n",
            "|     I182070933|         724|          Auto Theft|          AUTO THEFT|      B2|           330|2018-09-03 21:25:00|      NORMANDY ST|42.30607218| -71.0827326|(42.30607218, -71...|\n",
            "|     I182070932|        3301|     Verbal Disputes|      VERBAL DISPUTE|      B2|           584|2018-09-03 20:39:37|          LAWN ST|42.32701648|-71.10555088|(42.32701648, -71...|\n",
            "|     I182070931|         301|             Robbery|    ROBBERY - STREET|      C6|           177|2018-09-03 20:48:00|MASSACHUSETTS AVE|42.33152148|-71.07085307|(42.33152148, -71...|\n",
            "|     I182070929|        3301|     Verbal Disputes|      VERBAL DISPUTE|     C11|           364|2018-09-03 20:38:00|        LESLIE ST|42.29514664|-71.05860832|(42.29514664, -71...|\n",
            "|     I182070928|        3301|     Verbal Disputes|      VERBAL DISPUTE|      C6|           913|2018-09-03 19:55:00|    OCEAN VIEW DR|42.31957856|-71.04032766|(42.31957856, -71...|\n",
            "|     I182070927|        3114|Investigate Property|INVESTIGATE PROPERTY|      C6|           936|2018-09-03 20:19:00|      DALESSIO CT|42.34011469|-71.05339029|(42.34011469, -71...|\n",
            "|     I182070923|        3108|Fire Related Reports|FIRE REPORT - HOU...|      D4|           139|2018-09-03 19:58:00|   MARLBOROUGH ST| 42.3503876| -71.0878529|(42.35038760, -71...|\n",
            "|     I182070922|        2647|               Other|THREATS TO DO BOD...|      B3|           429|2018-09-03 20:39:00|      WOODROW AVE|42.28647012|-71.08714661|(42.28647012, -71...|\n",
            "|     I182070921|        3201|       Property Lost|     PROPERTY - LOST|      B3|           469|2018-09-02 14:00:00|        MULVEY ST|42.27924052|-71.09667382|(42.27924052, -71...|\n",
            "|     I182070920|        3006|  Medical Assistance|SICK/INJURED/MEDI...|    null|              |2018-09-03 19:43:00|             null|42.35287456| -71.0738297|(42.35287456, -71...|\n",
            "|     I182070919|        3301|     Verbal Disputes|      VERBAL DISPUTE|     C11|           341|2018-09-03 18:52:00|    STONEHURST ST|42.30526428|-71.06683755|(42.30526428, -71...|\n",
            "|     I182070918|        3305|Assembly or Gathe...| DEMONSTRATIONS/RIOT|      D4|           130|2018-09-03 17:00:00|   HUNTINGTON AVE|42.34857652|-71.07772012|(42.34857652, -71...|\n",
            "|     I182070917|        2647|               Other|THREATS TO DO BOD...|      B2|           901|2018-09-03 19:52:00|      HORADAN WAY|42.33371742|-71.09665806|(42.33371742, -71...|\n",
            "|     I182070915|         614|Larceny From Moto...|LARCENY THEFT FRO...|      B2|           181|2018-09-02 18:00:00|       SHIRLEY ST| 42.3256949|-71.06816778|(42.32569490, -71...|\n",
            "+---------------+------------+--------------------+--------------------+--------+--------------+-------------------+-----------------+-----------+------------+--------------------+\n",
            "only showing top 20 rows\n",
            "\n"
          ]
        }
      ]
    },
    {
      "cell_type": "code",
      "source": [
        "# Create the _table DataFrame\n",
        "OFFENSE_DESCRIPTION_bo_df = bo_df.groupby(\"OFFENSE_DESCRIPTION\").agg({\"OFFENSE_DESCRIPTION\":\"count\"}).withColumnRenamed(\"count(OFFENSE_DESCRIPTION)\", \"offense_count\")\n",
        "OFFENSE_DESCRIPTION_bo_df.show(10)\n",
        "     "
      ],
      "metadata": {
        "colab": {
          "base_uri": "https://localhost:8080/"
        },
        "id": "aHv7eVtg4IUl",
        "outputId": "c3fd95a2-fd12-41de-9e40-f6f84c8951ae"
      },
      "execution_count": 20,
      "outputs": [
        {
          "output_type": "stream",
          "name": "stdout",
          "text": [
            "+--------------------+-------------+\n",
            "| OFFENSE_DESCRIPTION|offense_count|\n",
            "+--------------------+-------------+\n",
            "|FIREARM/WEAPON - ...|           10|\n",
            "|ANNOYING AND ACCO...|          126|\n",
            "|DRUGS - POSS CLAS...|          879|\n",
            "|WEAPON - OTHER - ...|          623|\n",
            "|PROPERTY - STOLEN...|          452|\n",
            "|LARCENY THEFT OF ...|         2265|\n",
            "|DRUGS - POSS CLAS...|         2117|\n",
            "|LARCENY THEFT FRO...|         9069|\n",
            "|        ANIMAL ABUSE|           64|\n",
            "|WEAPON - FIREARM ...|          238|\n",
            "+--------------------+-------------+\n",
            "only showing top 10 rows\n",
            "\n"
          ]
        }
      ]
    },
    {
      "cell_type": "code",
      "source": [
        "\n",
        "# Create the _table DataFrame and drop duplicates. \n",
        "INCIDENT_NUMBER_bo_df = bo_df.select([\"INCIDENT_NUMBER\", \"OFFENSE_DESCRIPTION\"]).drop_duplicates()\n",
        "INCIDENT_NUMBER_bo_df.show()\n",
        "     "
      ],
      "metadata": {
        "colab": {
          "base_uri": "https://localhost:8080/"
        },
        "id": "xzirPu7w4ySj",
        "outputId": "3cdc6f0d-2630-460e-d55d-b9b7253af3a3"
      },
      "execution_count": 24,
      "outputs": [
        {
          "output_type": "stream",
          "name": "stdout",
          "text": [
            "+---------------+--------------------+\n",
            "|INCIDENT_NUMBER| OFFENSE_DESCRIPTION|\n",
            "+---------------+--------------------+\n",
            "|     I182070343|THREATS TO DO BOD...|\n",
            "|     I182069859|BURGLARY - COMMER...|\n",
            "|     I182069742| LARCENY SHOPLIFTING|\n",
            "|     I182069738|  LARCENY ALL OTHERS|\n",
            "|     I182069712|BURGLARY - RESIDE...|\n",
            "|     I182069562|DRUGS - POSS CLAS...|\n",
            "|     I182069475|DRUGS - POSS CLAS...|\n",
            "|     I182069278| DEMONSTRATIONS/RIOT|\n",
            "|     I182069174|         BOMB THREAT|\n",
            "|     I182069165|     PROPERTY - LOST|\n",
            "|     I182068894|      WARRANT ARREST|\n",
            "|     I182068821| LARCENY SHOPLIFTING|\n",
            "|     I182067957|WEAPON - FIREARM ...|\n",
            "|     I182067867|  INVESTIGATE PERSON|\n",
            "|     I182067716|M/V - LEAVING SCE...|\n",
            "|     I182067679|ASSAULT SIMPLE - ...|\n",
            "|     I182067526|DRUGS - POSS CLAS...|\n",
            "|     I182066955|  INVESTIGATE PERSON|\n",
            "|     I182066847|      WARRANT ARREST|\n",
            "|     I182066791|  LARCENY ALL OTHERS|\n",
            "+---------------+--------------------+\n",
            "only showing top 20 rows\n",
            "\n"
          ]
        }
      ]
    },
    {
      "cell_type": "code",
      "source": [
        "\n",
        "# Create the review_id_table DataFrame. \n",
        "# Convert the 'OFFENSE_DESCRIPTION' column to a date datatype with to_date(\"OCCURRED_ON_DATE\", 'yyyy-MM-dd').alias(\"OCCURRED_ON_DATE\")\n",
        "OFFENSE_DESCRIPTION_bo_df = bo_df.select([\"OFFENSE_DESCRIPTION\",\"DISTRICT\", \"REPORTING_AREA\",\"Location\", to_date(\"OCCURRED_ON_DATE\", 'yyyy-MM-dd').alias(\"OCCURRED_ON_DATE\")]).drop_duplicates()\n",
        "OFFENSE_DESCRIPTION_bo_df.show()"
      ],
      "metadata": {
        "colab": {
          "base_uri": "https://localhost:8080/"
        },
        "id": "jiqgjP4D6IgO",
        "outputId": "4ccc70d1-4270-4560-f54a-bc6e72224081"
      },
      "execution_count": 25,
      "outputs": [
        {
          "output_type": "stream",
          "name": "stdout",
          "text": [
            "+--------------------+--------+--------------+--------------------+----------------+\n",
            "| OFFENSE_DESCRIPTION|DISTRICT|REPORTING_AREA|            Location|OCCURRED_ON_DATE|\n",
            "+--------------------+--------+--------------+--------------------+----------------+\n",
            "|M/V ACCIDENT - PR...|    null|              |(42.31138549, -71...|      2018-09-02|\n",
            "|SICK/INJURED/MEDI...|      E5|           563|(42.29011783, -71...|      2018-09-01|\n",
            "|M/V - LEAVING SCE...|     D14|           795|(42.34926256, -71...|      2018-08-29|\n",
            "|LARCENY THEFT FRO...|      B2|           311|(42.31719004, -71...|      2018-08-21|\n",
            "|SICK/INJURED/MEDI...|      C6|           177|(42.33181880, -71...|      2018-08-31|\n",
            "|     PROPERTY - LOST|      B2|           287|(42.33192532, -71...|      2017-08-31|\n",
            "|      VERBAL DISPUTE|      C6|           936|(42.33731824, -71...|      2018-08-30|\n",
            "|ANIMAL CONTROL - ...|      E5|           735|(42.28397190, -71...|      2018-08-30|\n",
            "|           VANDALISM|      B2|           180|(42.32552923, -71...|      2018-08-29|\n",
            "|M/V ACCIDENT - PR...|     E13|           303|(42.31898860, -71...|      2018-08-29|\n",
            "|M/V - LEAVING SCE...|      A7|            17|(42.38031937, -71...|      2018-08-28|\n",
            "|      VERBAL DISPUTE|      B3|           450|(42.29276044, -71...|      2018-08-26|\n",
            "| TOWED MOTOR VEHICLE|      C6|           193|(42.32995513, -71...|      2018-08-26|\n",
            "|  INVESTIGATE PERSON|      B3|           442|(42.29365319, -71...|      2018-08-25|\n",
            "|ASSAULT - AGGRAVA...|      A1|              |(0.00000000, 0.00...|      2018-08-25|\n",
            "|M/V - LEAVING SCE...|      B2|           318|(42.31026891, -71...|      2018-08-23|\n",
            "|LARCENY THEFT FRO...|      A1|           102|(42.35602373, -71...|      2018-08-23|\n",
            "|STOLEN PROPERTY -...|      B3|           432|(42.28814156, -71...|      2018-08-22|\n",
            "|ANNOYING AND ACCO...|      A1|            92|(42.35794422, -71...|      2018-08-22|\n",
            "|  INVESTIGATE PERSON|      A7|            34|(42.36472452, -71...|      2018-08-21|\n",
            "+--------------------+--------+--------------+--------------------+----------------+\n",
            "only showing top 20 rows\n",
            "\n"
          ]
        }
      ]
    }
  ]
}