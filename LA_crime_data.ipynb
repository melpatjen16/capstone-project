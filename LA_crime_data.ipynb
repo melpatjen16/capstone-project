{
 "cells": [
  {
   "cell_type": "code",
   "execution_count": 5,
   "id": "c2505d99",
   "metadata": {},
   "outputs": [
    {
     "name": "stdout",
     "output_type": "stream",
     "text": [
      "Total number of crimes in the dataset: 1136589\n"
     ]
    },
    {
     "data": {
      "text/html": [
       "<div>\n",
       "<style scoped>\n",
       "    .dataframe tbody tr th:only-of-type {\n",
       "        vertical-align: middle;\n",
       "    }\n",
       "\n",
       "    .dataframe tbody tr th {\n",
       "        vertical-align: top;\n",
       "    }\n",
       "\n",
       "    .dataframe thead th {\n",
       "        text-align: right;\n",
       "    }\n",
       "</style>\n",
       "<table border=\"1\" class=\"dataframe\">\n",
       "  <thead>\n",
       "    <tr style=\"text-align: right;\">\n",
       "      <th></th>\n",
       "      <th>Date.Rptd</th>\n",
       "      <th>DR.NO</th>\n",
       "      <th>DATE.OCC</th>\n",
       "      <th>TIME.OCC</th>\n",
       "      <th>AREA</th>\n",
       "      <th>AREA.NAME</th>\n",
       "      <th>RD</th>\n",
       "      <th>Crm.Cd</th>\n",
       "      <th>CrmCd.Desc</th>\n",
       "      <th>Status</th>\n",
       "      <th>Status.Desc</th>\n",
       "      <th>LOCATION</th>\n",
       "      <th>Cross.Street</th>\n",
       "      <th>Location.1</th>\n",
       "    </tr>\n",
       "  </thead>\n",
       "  <tbody>\n",
       "    <tr>\n",
       "      <th>0</th>\n",
       "      <td>03/20/2013</td>\n",
       "      <td>132007717</td>\n",
       "      <td>03/20/2013</td>\n",
       "      <td>2015</td>\n",
       "      <td>20</td>\n",
       "      <td>Olympic</td>\n",
       "      <td>2004</td>\n",
       "      <td>997</td>\n",
       "      <td>TRAFFIC DR #</td>\n",
       "      <td>UNK</td>\n",
       "      <td>Unknown</td>\n",
       "      <td>OXFORD</td>\n",
       "      <td>OAKWOOD</td>\n",
       "      <td>(34.0776, -118.308)</td>\n",
       "    </tr>\n",
       "    <tr>\n",
       "      <th>1</th>\n",
       "      <td>03/10/2013</td>\n",
       "      <td>130608787</td>\n",
       "      <td>03/10/2013</td>\n",
       "      <td>445</td>\n",
       "      <td>6</td>\n",
       "      <td>Hollywood</td>\n",
       "      <td>635</td>\n",
       "      <td>997</td>\n",
       "      <td>TRAFFIC DR #</td>\n",
       "      <td>UNK</td>\n",
       "      <td>Unknown</td>\n",
       "      <td>ODIN                         ST</td>\n",
       "      <td>CAHUENGA                     BL</td>\n",
       "      <td>(34.1113, -118.3336)</td>\n",
       "    </tr>\n",
       "    <tr>\n",
       "      <th>2</th>\n",
       "      <td>12/18/2013</td>\n",
       "      <td>131820260</td>\n",
       "      <td>12/18/2013</td>\n",
       "      <td>745</td>\n",
       "      <td>18</td>\n",
       "      <td>Southeast</td>\n",
       "      <td>1839</td>\n",
       "      <td>997</td>\n",
       "      <td>TRAFFIC DR #</td>\n",
       "      <td>UNK</td>\n",
       "      <td>Unknown</td>\n",
       "      <td>105TH                        ST</td>\n",
       "      <td>CROESUS                      AV</td>\n",
       "      <td>(33.9406, -118.2338)</td>\n",
       "    </tr>\n",
       "    <tr>\n",
       "      <th>3</th>\n",
       "      <td>10/18/2013</td>\n",
       "      <td>131817514</td>\n",
       "      <td>10/18/2013</td>\n",
       "      <td>1730</td>\n",
       "      <td>18</td>\n",
       "      <td>Southeast</td>\n",
       "      <td>1827</td>\n",
       "      <td>997</td>\n",
       "      <td>TRAFFIC DR #</td>\n",
       "      <td>UNK</td>\n",
       "      <td>Unknown</td>\n",
       "      <td>101ST                        ST</td>\n",
       "      <td>JUNIPER                      ST</td>\n",
       "      <td>(33.9449, -118.2332)</td>\n",
       "    </tr>\n",
       "    <tr>\n",
       "      <th>4</th>\n",
       "      <td>05/26/2013</td>\n",
       "      <td>130510483</td>\n",
       "      <td>05/25/2013</td>\n",
       "      <td>2000</td>\n",
       "      <td>5</td>\n",
       "      <td>Harbor</td>\n",
       "      <td>507</td>\n",
       "      <td>440</td>\n",
       "      <td>THEFT PLAIN - PETTY (UNDER $400)</td>\n",
       "      <td>UNK</td>\n",
       "      <td>Unknown</td>\n",
       "      <td>1300      W  SEPULVEDA                    BL</td>\n",
       "      <td>NaN</td>\n",
       "      <td>(33.8135, -118.2992)</td>\n",
       "    </tr>\n",
       "  </tbody>\n",
       "</table>\n",
       "</div>"
      ],
      "text/plain": [
       "    Date.Rptd      DR.NO    DATE.OCC  TIME.OCC  AREA  AREA.NAME    RD  Crm.Cd  \\\n",
       "0  03/20/2013  132007717  03/20/2013      2015    20    Olympic  2004     997   \n",
       "1  03/10/2013  130608787  03/10/2013       445     6  Hollywood   635     997   \n",
       "2  12/18/2013  131820260  12/18/2013       745    18  Southeast  1839     997   \n",
       "3  10/18/2013  131817514  10/18/2013      1730    18  Southeast  1827     997   \n",
       "4  05/26/2013  130510483  05/25/2013      2000     5     Harbor   507     440   \n",
       "\n",
       "                         CrmCd.Desc Status Status.Desc  \\\n",
       "0                      TRAFFIC DR #    UNK     Unknown   \n",
       "1                      TRAFFIC DR #    UNK     Unknown   \n",
       "2                      TRAFFIC DR #    UNK     Unknown   \n",
       "3                      TRAFFIC DR #    UNK     Unknown   \n",
       "4  THEFT PLAIN - PETTY (UNDER $400)    UNK     Unknown   \n",
       "\n",
       "                                        LOCATION  \\\n",
       "0                                         OXFORD   \n",
       "1                ODIN                         ST   \n",
       "2                105TH                        ST   \n",
       "3                101ST                        ST   \n",
       "4   1300      W  SEPULVEDA                    BL   \n",
       "\n",
       "                         Cross.Street            Location.1  \n",
       "0                             OAKWOOD   (34.0776, -118.308)  \n",
       "1     CAHUENGA                     BL  (34.1113, -118.3336)  \n",
       "2     CROESUS                      AV  (33.9406, -118.2338)  \n",
       "3     JUNIPER                      ST  (33.9449, -118.2332)  \n",
       "4                                 NaN  (33.8135, -118.2992)  "
      ]
     },
     "execution_count": 5,
     "metadata": {},
     "output_type": "execute_result"
    }
   ],
   "source": [
    "import pandas as pd\n",
    "import numpy as np\n",
    "import matplotlib.pyplot as plt\n",
    "%matplotlib inline\n",
    "\n",
    "#crimeData_df = pd.read_csv(\"../Datasets/Crimes_2012-2016.csv\")\n",
    "print(\"Total number of crimes in the dataset: {}\".format(len(crimeData)))\n",
    "crimeData.head()\n",
    "\n"
   ]
  },
  {
   "cell_type": "code",
   "execution_count": 6,
   "id": "715ca620",
   "metadata": {},
   "outputs": [
    {
     "data": {
      "text/plain": [
       "TRAFFIC DR #                               167051\n",
       "BATTERY - SIMPLE ASSAULT                    90224\n",
       "VEHICLE - STOLEN                            73346\n",
       "BURGLARY FROM VEHICLE                       72511\n",
       "BURGLARY                                    69410\n",
       "                                            ...  \n",
       "TILL TAP - GRAND THEFT ($950.01 & OVER)         3\n",
       "MANSLAUGHTER, NEGLIGENT                         2\n",
       "BLOCKING DOOR INDUCTION CENTER                  2\n",
       "THEFT, COIN MACHINE - GRAND                     1\n",
       "HOMICIDE (NON-UCR)                              1\n",
       "Name: CrmCd.Desc, Length: 161, dtype: int64"
      ]
     },
     "execution_count": 6,
     "metadata": {},
     "output_type": "execute_result"
    }
   ],
   "source": [
    "crimeByType = crimeData['CrmCd.Desc'].value_counts()\n",
    "crimeByType"
   ]
  },
  {
   "cell_type": "code",
   "execution_count": 7,
   "id": "199c5199",
   "metadata": {
    "scrolled": true
   },
   "outputs": [
    {
     "name": "stdout",
     "output_type": "stream",
     "text": [
      "Date.Rptd\n",
      "DR.NO\n",
      "DATE.OCC\n",
      "TIME.OCC\n",
      "AREA\n",
      "AREA.NAME\n",
      "RD\n",
      "Crm.Cd\n",
      "CrmCd.Desc\n",
      "Status\n",
      "Status.Desc\n",
      "LOCATION\n",
      "Cross.Street\n",
      "Location.1\n"
     ]
    }
   ],
   "source": [
    "for col in crimeData_df.columns:\n",
    "        print(col)\n",
    "        "
   ]
  },
  {
   "cell_type": "code",
   "execution_count": 8,
   "id": "0ad94d6b",
   "metadata": {},
   "outputs": [
    {
     "data": {
      "text/plain": [
       "Date.Rptd       object\n",
       "DR.NO            int64\n",
       "DATE.OCC        object\n",
       "TIME.OCC         int64\n",
       "AREA             int64\n",
       "AREA.NAME       object\n",
       "RD               int64\n",
       "Crm.Cd           int64\n",
       "CrmCd.Desc      object\n",
       "Status          object\n",
       "Status.Desc     object\n",
       "LOCATION        object\n",
       "Cross.Street    object\n",
       "Location.1      object\n",
       "dtype: object"
      ]
     },
     "execution_count": 8,
     "metadata": {},
     "output_type": "execute_result"
    }
   ],
   "source": [
    "crimeData_df.dtypes\n"
   ]
  },
  {
   "cell_type": "code",
   "execution_count": 9,
   "id": "9294fcb0",
   "metadata": {},
   "outputs": [
    {
     "data": {
      "text/plain": [
       "997    167051\n",
       "624     90224\n",
       "440     74965\n",
       "510     73346\n",
       "330     72511\n",
       "        ...  \n",
       "347         4\n",
       "470         3\n",
       "113         2\n",
       "432         2\n",
       "111         1\n",
       "Name: Crm.Cd, Length: 140, dtype: int64"
      ]
     },
     "execution_count": 9,
     "metadata": {},
     "output_type": "execute_result"
    }
   ],
   "source": [
    "crimeByCode = crimeData_df['Crm.Cd'].value_counts()\n",
    "crimeByCode"
   ]
  },
  {
   "cell_type": "code",
   "execution_count": 10,
   "id": "e4eedfbb",
   "metadata": {},
   "outputs": [
    {
     "data": {
      "text/plain": [
       "Date.Rptd          1773\n",
       "DR.NO           1135556\n",
       "DATE.OCC           1770\n",
       "TIME.OCC           1439\n",
       "AREA                 21\n",
       "AREA.NAME            21\n",
       "RD                 1303\n",
       "Crm.Cd              140\n",
       "CrmCd.Desc          161\n",
       "Status                9\n",
       "Status.Desc           7\n",
       "LOCATION         206290\n",
       "Cross.Street      18761\n",
       "Location.1        68553\n",
       "dtype: int64"
      ]
     },
     "execution_count": 10,
     "metadata": {},
     "output_type": "execute_result"
    }
   ],
   "source": [
    "crimeData_df.nunique()"
   ]
  },
  {
   "cell_type": "code",
   "execution_count": 13,
   "id": "86773231",
   "metadata": {},
   "outputs": [
    {
     "data": {
      "text/plain": [
       "IC     916146\n",
       "AO     107076\n",
       "AA     102438\n",
       "JA       8667\n",
       "JO       2227\n",
       "CC         25\n",
       "UNK         8\n",
       "TH          1\n",
       "19          1\n",
       "Name: Status, dtype: int64"
      ]
     },
     "execution_count": 13,
     "metadata": {},
     "output_type": "execute_result"
    }
   ],
   "source": [
    "crimeData_df.Status.value_counts()"
   ]
  },
  {
   "cell_type": "code",
   "execution_count": 19,
   "id": "5be6d3d1",
   "metadata": {},
   "outputs": [],
   "source": [
    "crimeData_df.to_csv('LA_CrimeData.csv',header=False)"
   ]
  }
 ],
 "metadata": {
  "kernelspec": {
   "display_name": "mlenv",
   "language": "python",
   "name": "mlenv"
  },
  "language_info": {
   "codemirror_mode": {
    "name": "ipython",
    "version": 3
   },
   "file_extension": ".py",
   "mimetype": "text/x-python",
   "name": "python",
   "nbconvert_exporter": "python",
   "pygments_lexer": "ipython3",
   "version": "3.9.12"
  }
 },
 "nbformat": 4,
 "nbformat_minor": 5
}
